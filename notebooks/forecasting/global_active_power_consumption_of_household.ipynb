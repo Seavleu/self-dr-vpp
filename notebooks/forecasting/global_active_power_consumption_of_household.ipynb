{
 "cells": [
  {
   "cell_type": "markdown",
   "metadata": {},
   "source": [
    "**Objective:**\n",
    "\n",
    "We will try to gain more insight about the global household electric power consumption by using time series forecasting.\n",
    "\n",
    "**Dataset Information:**\n",
    "It is a real-world power usage data from a single household in Sceaux (7km of Paris, France), recorded at 1-minute intervals, between December 2006 and November 2010 (47month). Please refer more detail about the dataset in\n",
    "<a href='https://vast-part-d09.notion.site/Data-Pipeline-Implementation-1bc7e6ac7d0780e19be3fcf311b4a4af?pvs=73'>Data Pipeline Implementation | Notion</a>\n",
    "\n",
    "- The dataset consisted of **9 features**: \n",
    "    - **Date**: Date in format dd/mm/yyyy\n",
    "    - **Time**: time in format hh:mm:ss\n",
    "    - **Global_active_power**: household global minute-averaged active power (in kilowatt)\n",
    "    - **Global_reactive_power**: household global minute-averaged reactive power (in kilowatt)\n",
    "    - **Voltage**: household global minute-averaged reactive power (in kilowatt)\n",
    "    - **Global_intensity**: household global minute-averaged current intensity (in ampere)\n",
    "    - **Sub_metering_1**: energy sub-metering No. 1 (in watt-hour of active energy). It corresponds to the kitchen, containing mainly a dishwasher, an oven and a microwave (hot plates are not electric but gas powered).\n",
    "    - **Sub_metering_2**: energy sub-metering No. 2 (in watt-hour of active energy). It corresponds to the laundry room, containing a washing-machine, a tumble-drier, a refrigerator and a light.\n",
    "    - **Sub_metering_3**: energy sub-metering No. 3 (in watt-hour of active energy). It corresponds to an electric water-heater and an air-conditioner.\n",
    "- Instances: 2075259\n",
    "\n",
    "**For initial start we will conduct 6 primary steps:**\n",
    "\n",
    "Data pre-processing -> Exploratory Data Analysis (EDA) -> Data preparation -> Building and Training LSTM model (train set) -> Model Evaluation -> Visualization\n",
    "\n",
    "1. Data pre-processing: handle missing value, converting the data into a stationary time series\n",
    "2. EDA: understanding pattern and trend\n",
    "3. Data preparation: prepare and split data (train, test set) and transform data for LSTM\n",
    "4. Building mode: we are using LSTM and SARIMA (Seasonal Autoregressive Integrated Moving Average) for comparison\n",
    "5. Model evaluation: perform metrics on both sets\n",
    "6. Visualization\n",
    "\n"
   ]
  },
  {
   "cell_type": "code",
   "execution_count": 2,
   "metadata": {},
   "outputs": [],
   "source": [
    "import numpy as np\n",
    "import pandas as pd\n",
    "import seaborn as sns\n",
    "import warnings\n",
    "from time import time\n",
    "from scipy import stats\n",
    "from statsmodels.tsa.stattools import adfuller\n",
    "from sklearn import preprocessing\n",
    "from statsmodels.tsa.stattools import pacf\n",
    "import math\n",
    "from tensorflow import keras\n",
    "from tensorflow.keras.models import Sequential\n",
    "from tensorflow.keras.layers import Dense, LSTM, Dropout, Conv1D, MaxPooling1D, Flatten\n",
    "from sklearn.preprocessing import MinMaxScaler\n",
    "from sklearn.metrics import mean_squared_error, mean_absolute_error\n",
    "from tensorflow.keras.callbacks import EarlyStopping\n",
    "import matplotlib.pyplot as plt\n",
    "\n",
    "pd.set_option('display.float_format', lambda x: '%.4f' % x)\n",
    "\n",
    "sns.set_context(\"paper\", font_scale=1.3)\n",
    "sns.set_style('white')\n",
    "\n",
    "warnings.filterwarnings('ignore')\n",
    "\n",
    "import matplotlib.ticker as tkr\n",
    "\n",
    "%matplotlib inline"
   ]
  },
  {
   "cell_type": "markdown",
   "metadata": {},
   "source": [
    "##### Step 1: Data Pre-processing"
   ]
  },
  {
   "cell_type": "code",
   "execution_count": 3,
   "metadata": {},
   "outputs": [],
   "source": [
    "df = pd.read_csv('D:/ai_team/self-dr-vpp/data/raw/household_power_consumption.txt', \n",
    "                   delimiter=';',\n",
    "                   na_values='?',\n",
    "                   parse_dates={'datetime': ['Date', 'Time']},\n",
    "                   infer_datetime_format=True,\n",
    "                   low_memory=False)"
   ]
  },
  {
   "cell_type": "code",
   "execution_count": 4,
   "metadata": {},
   "outputs": [
    {
     "name": "stdout",
     "output_type": "stream",
     "text": [
      " Number of rows and columns: (2075259, 8)\n"
     ]
    },
    {
     "data": {
      "application/vnd.microsoft.datawrangler.viewer.v0+json": {
       "columns": [
        {
         "name": "index",
         "rawType": "int64",
         "type": "integer"
        },
        {
         "name": "datetime",
         "rawType": "datetime64[ns]",
         "type": "datetime"
        },
        {
         "name": "Global_active_power",
         "rawType": "float64",
         "type": "float"
        },
        {
         "name": "Global_reactive_power",
         "rawType": "float64",
         "type": "float"
        },
        {
         "name": "Voltage",
         "rawType": "float64",
         "type": "float"
        },
        {
         "name": "Global_intensity",
         "rawType": "float64",
         "type": "float"
        },
        {
         "name": "Sub_metering_1",
         "rawType": "float64",
         "type": "float"
        },
        {
         "name": "Sub_metering_2",
         "rawType": "float64",
         "type": "float"
        },
        {
         "name": "Sub_metering_3",
         "rawType": "float64",
         "type": "float"
        }
       ],
       "conversionMethod": "pd.DataFrame",
       "ref": "42eecbb8-8e85-48a1-868d-41295d6f4bd1",
       "rows": [
        [
         "0",
         "2006-12-16 17:24:00",
         "4.216",
         "0.418",
         "234.84",
         "18.4",
         "0.0",
         "1.0",
         "17.0"
        ],
        [
         "1",
         "2006-12-16 17:25:00",
         "5.36",
         "0.436",
         "233.63",
         "23.0",
         "0.0",
         "1.0",
         "16.0"
        ],
        [
         "2",
         "2006-12-16 17:26:00",
         "5.374",
         "0.498",
         "233.29",
         "23.0",
         "0.0",
         "2.0",
         "17.0"
        ],
        [
         "3",
         "2006-12-16 17:27:00",
         "5.388",
         "0.502",
         "233.74",
         "23.0",
         "0.0",
         "1.0",
         "17.0"
        ],
        [
         "4",
         "2006-12-16 17:28:00",
         "3.666",
         "0.528",
         "235.68",
         "15.8",
         "0.0",
         "1.0",
         "17.0"
        ]
       ],
       "shape": {
        "columns": 8,
        "rows": 5
       }
      },
      "text/html": [
       "<div>\n",
       "<style scoped>\n",
       "    .dataframe tbody tr th:only-of-type {\n",
       "        vertical-align: middle;\n",
       "    }\n",
       "\n",
       "    .dataframe tbody tr th {\n",
       "        vertical-align: top;\n",
       "    }\n",
       "\n",
       "    .dataframe thead th {\n",
       "        text-align: right;\n",
       "    }\n",
       "</style>\n",
       "<table border=\"1\" class=\"dataframe\">\n",
       "  <thead>\n",
       "    <tr style=\"text-align: right;\">\n",
       "      <th></th>\n",
       "      <th>datetime</th>\n",
       "      <th>Global_active_power</th>\n",
       "      <th>Global_reactive_power</th>\n",
       "      <th>Voltage</th>\n",
       "      <th>Global_intensity</th>\n",
       "      <th>Sub_metering_1</th>\n",
       "      <th>Sub_metering_2</th>\n",
       "      <th>Sub_metering_3</th>\n",
       "    </tr>\n",
       "  </thead>\n",
       "  <tbody>\n",
       "    <tr>\n",
       "      <th>0</th>\n",
       "      <td>2006-12-16 17:24:00</td>\n",
       "      <td>4.2160</td>\n",
       "      <td>0.4180</td>\n",
       "      <td>234.8400</td>\n",
       "      <td>18.4000</td>\n",
       "      <td>0.0000</td>\n",
       "      <td>1.0000</td>\n",
       "      <td>17.0000</td>\n",
       "    </tr>\n",
       "    <tr>\n",
       "      <th>1</th>\n",
       "      <td>2006-12-16 17:25:00</td>\n",
       "      <td>5.3600</td>\n",
       "      <td>0.4360</td>\n",
       "      <td>233.6300</td>\n",
       "      <td>23.0000</td>\n",
       "      <td>0.0000</td>\n",
       "      <td>1.0000</td>\n",
       "      <td>16.0000</td>\n",
       "    </tr>\n",
       "    <tr>\n",
       "      <th>2</th>\n",
       "      <td>2006-12-16 17:26:00</td>\n",
       "      <td>5.3740</td>\n",
       "      <td>0.4980</td>\n",
       "      <td>233.2900</td>\n",
       "      <td>23.0000</td>\n",
       "      <td>0.0000</td>\n",
       "      <td>2.0000</td>\n",
       "      <td>17.0000</td>\n",
       "    </tr>\n",
       "    <tr>\n",
       "      <th>3</th>\n",
       "      <td>2006-12-16 17:27:00</td>\n",
       "      <td>5.3880</td>\n",
       "      <td>0.5020</td>\n",
       "      <td>233.7400</td>\n",
       "      <td>23.0000</td>\n",
       "      <td>0.0000</td>\n",
       "      <td>1.0000</td>\n",
       "      <td>17.0000</td>\n",
       "    </tr>\n",
       "    <tr>\n",
       "      <th>4</th>\n",
       "      <td>2006-12-16 17:28:00</td>\n",
       "      <td>3.6660</td>\n",
       "      <td>0.5280</td>\n",
       "      <td>235.6800</td>\n",
       "      <td>15.8000</td>\n",
       "      <td>0.0000</td>\n",
       "      <td>1.0000</td>\n",
       "      <td>17.0000</td>\n",
       "    </tr>\n",
       "  </tbody>\n",
       "</table>\n",
       "</div>"
      ],
      "text/plain": [
       "             datetime  Global_active_power  Global_reactive_power  Voltage  \\\n",
       "0 2006-12-16 17:24:00               4.2160                 0.4180 234.8400   \n",
       "1 2006-12-16 17:25:00               5.3600                 0.4360 233.6300   \n",
       "2 2006-12-16 17:26:00               5.3740                 0.4980 233.2900   \n",
       "3 2006-12-16 17:27:00               5.3880                 0.5020 233.7400   \n",
       "4 2006-12-16 17:28:00               3.6660                 0.5280 235.6800   \n",
       "\n",
       "   Global_intensity  Sub_metering_1  Sub_metering_2  Sub_metering_3  \n",
       "0           18.4000          0.0000          1.0000         17.0000  \n",
       "1           23.0000          0.0000          1.0000         16.0000  \n",
       "2           23.0000          0.0000          2.0000         17.0000  \n",
       "3           23.0000          0.0000          1.0000         17.0000  \n",
       "4           15.8000          0.0000          1.0000         17.0000  "
      ]
     },
     "execution_count": 4,
     "metadata": {},
     "output_type": "execute_result"
    }
   ],
   "source": [
    "print(' Number of rows and columns:', df.shape)\n",
    "df.head(5)"
   ]
  },
  {
   "cell_type": "code",
   "execution_count": 5,
   "metadata": {},
   "outputs": [],
   "source": [
    "# convert all data columns name to lowercase and remove spaces\n",
    "df.columns = [col.lower() for col in df.columns]"
   ]
  },
  {
   "cell_type": "code",
   "execution_count": 6,
   "metadata": {},
   "outputs": [
    {
     "name": "stdout",
     "output_type": "stream",
     "text": [
      "<class 'pandas.core.frame.DataFrame'>\n",
      "RangeIndex: 2075259 entries, 0 to 2075258\n",
      "Data columns (total 8 columns):\n",
      " #   Column                 Dtype         \n",
      "---  ------                 -----         \n",
      " 0   datetime               datetime64[ns]\n",
      " 1   global_active_power    float64       \n",
      " 2   global_reactive_power  float64       \n",
      " 3   voltage                float64       \n",
      " 4   global_intensity       float64       \n",
      " 5   sub_metering_1         float64       \n",
      " 6   sub_metering_2         float64       \n",
      " 7   sub_metering_3         float64       \n",
      "dtypes: datetime64[ns](1), float64(7)\n",
      "memory usage: 126.7 MB\n",
      "Data information: None\n"
     ]
    }
   ],
   "source": [
    "print('Data information:', df.info())"
   ]
  },
  {
   "cell_type": "code",
   "execution_count": 7,
   "metadata": {},
   "outputs": [
    {
     "name": "stdout",
     "output_type": "stream",
     "text": [
      "Data description:                             datetime  global_active_power  \\\n",
      "count                        2075259         2049280.0000   \n",
      "mean   2008-12-06 07:12:59.999994112               1.0916   \n",
      "min              2006-12-16 17:24:00               0.0760   \n",
      "25%              2007-12-12 00:18:30               0.3080   \n",
      "50%              2008-12-06 07:13:00               0.6020   \n",
      "75%              2009-12-01 14:07:30               1.5280   \n",
      "max              2010-11-26 21:02:00              11.1220   \n",
      "std                              NaN               1.0573   \n",
      "\n",
      "       global_reactive_power      voltage  global_intensity  sub_metering_1  \\\n",
      "count           2049280.0000 2049280.0000      2049280.0000    2049280.0000   \n",
      "mean                  0.1237     240.8399            4.6278          1.1219   \n",
      "min                   0.0000     223.2000            0.2000          0.0000   \n",
      "25%                   0.0480     238.9900            1.4000          0.0000   \n",
      "50%                   0.1000     241.0100            2.6000          0.0000   \n",
      "75%                   0.1940     242.8900            6.4000          0.0000   \n",
      "max                   1.3900     254.1500           48.4000         88.0000   \n",
      "std                   0.1127       3.2400            4.4444          6.1530   \n",
      "\n",
      "       sub_metering_2  sub_metering_3  \n",
      "count    2049280.0000    2049280.0000  \n",
      "mean           1.2985          6.4584  \n",
      "min            0.0000          0.0000  \n",
      "25%            0.0000          0.0000  \n",
      "50%            0.0000          1.0000  \n",
      "75%            1.0000         17.0000  \n",
      "max           80.0000         31.0000  \n",
      "std            5.8220          8.4372  \n"
     ]
    }
   ],
   "source": [
    "print('Data description:', df.describe())"
   ]
  },
  {
   "cell_type": "code",
   "execution_count": 8,
   "metadata": {},
   "outputs": [
    {
     "data": {
      "application/vnd.microsoft.datawrangler.viewer.v0+json": {
       "columns": [
        {
         "name": "index",
         "rawType": "int64",
         "type": "integer"
        },
        {
         "name": "datetime",
         "rawType": "datetime64[ns]",
         "type": "datetime"
        },
        {
         "name": "global_active_power",
         "rawType": "float64",
         "type": "float"
        },
        {
         "name": "global_reactive_power",
         "rawType": "float64",
         "type": "float"
        },
        {
         "name": "voltage",
         "rawType": "float64",
         "type": "float"
        },
        {
         "name": "global_intensity",
         "rawType": "float64",
         "type": "float"
        },
        {
         "name": "sub_metering_1",
         "rawType": "float64",
         "type": "float"
        },
        {
         "name": "sub_metering_2",
         "rawType": "float64",
         "type": "float"
        },
        {
         "name": "sub_metering_3",
         "rawType": "float64",
         "type": "float"
        }
       ],
       "conversionMethod": "pd.DataFrame",
       "ref": "b5f0d2ca-e2ce-4d9b-87ea-4d38b93d964a",
       "rows": [
        [
         "2075254",
         "2010-11-26 20:58:00",
         "0.946",
         "0.0",
         "240.43",
         "4.0",
         "0.0",
         "0.0",
         "0.0"
        ],
        [
         "2075255",
         "2010-11-26 20:59:00",
         "0.944",
         "0.0",
         "240.0",
         "4.0",
         "0.0",
         "0.0",
         "0.0"
        ],
        [
         "2075256",
         "2010-11-26 21:00:00",
         "0.938",
         "0.0",
         "239.82",
         "3.8",
         "0.0",
         "0.0",
         "0.0"
        ],
        [
         "2075257",
         "2010-11-26 21:01:00",
         "0.934",
         "0.0",
         "239.7",
         "3.8",
         "0.0",
         "0.0",
         "0.0"
        ],
        [
         "2075258",
         "2010-11-26 21:02:00",
         "0.932",
         "0.0",
         "239.55",
         "3.8",
         "0.0",
         "0.0",
         "0.0"
        ]
       ],
       "shape": {
        "columns": 8,
        "rows": 5
       }
      },
      "text/html": [
       "<div>\n",
       "<style scoped>\n",
       "    .dataframe tbody tr th:only-of-type {\n",
       "        vertical-align: middle;\n",
       "    }\n",
       "\n",
       "    .dataframe tbody tr th {\n",
       "        vertical-align: top;\n",
       "    }\n",
       "\n",
       "    .dataframe thead th {\n",
       "        text-align: right;\n",
       "    }\n",
       "</style>\n",
       "<table border=\"1\" class=\"dataframe\">\n",
       "  <thead>\n",
       "    <tr style=\"text-align: right;\">\n",
       "      <th></th>\n",
       "      <th>datetime</th>\n",
       "      <th>global_active_power</th>\n",
       "      <th>global_reactive_power</th>\n",
       "      <th>voltage</th>\n",
       "      <th>global_intensity</th>\n",
       "      <th>sub_metering_1</th>\n",
       "      <th>sub_metering_2</th>\n",
       "      <th>sub_metering_3</th>\n",
       "    </tr>\n",
       "  </thead>\n",
       "  <tbody>\n",
       "    <tr>\n",
       "      <th>2075254</th>\n",
       "      <td>2010-11-26 20:58:00</td>\n",
       "      <td>0.9460</td>\n",
       "      <td>0.0000</td>\n",
       "      <td>240.4300</td>\n",
       "      <td>4.0000</td>\n",
       "      <td>0.0000</td>\n",
       "      <td>0.0000</td>\n",
       "      <td>0.0000</td>\n",
       "    </tr>\n",
       "    <tr>\n",
       "      <th>2075255</th>\n",
       "      <td>2010-11-26 20:59:00</td>\n",
       "      <td>0.9440</td>\n",
       "      <td>0.0000</td>\n",
       "      <td>240.0000</td>\n",
       "      <td>4.0000</td>\n",
       "      <td>0.0000</td>\n",
       "      <td>0.0000</td>\n",
       "      <td>0.0000</td>\n",
       "    </tr>\n",
       "    <tr>\n",
       "      <th>2075256</th>\n",
       "      <td>2010-11-26 21:00:00</td>\n",
       "      <td>0.9380</td>\n",
       "      <td>0.0000</td>\n",
       "      <td>239.8200</td>\n",
       "      <td>3.8000</td>\n",
       "      <td>0.0000</td>\n",
       "      <td>0.0000</td>\n",
       "      <td>0.0000</td>\n",
       "    </tr>\n",
       "    <tr>\n",
       "      <th>2075257</th>\n",
       "      <td>2010-11-26 21:01:00</td>\n",
       "      <td>0.9340</td>\n",
       "      <td>0.0000</td>\n",
       "      <td>239.7000</td>\n",
       "      <td>3.8000</td>\n",
       "      <td>0.0000</td>\n",
       "      <td>0.0000</td>\n",
       "      <td>0.0000</td>\n",
       "    </tr>\n",
       "    <tr>\n",
       "      <th>2075258</th>\n",
       "      <td>2010-11-26 21:02:00</td>\n",
       "      <td>0.9320</td>\n",
       "      <td>0.0000</td>\n",
       "      <td>239.5500</td>\n",
       "      <td>3.8000</td>\n",
       "      <td>0.0000</td>\n",
       "      <td>0.0000</td>\n",
       "      <td>0.0000</td>\n",
       "    </tr>\n",
       "  </tbody>\n",
       "</table>\n",
       "</div>"
      ],
      "text/plain": [
       "                   datetime  global_active_power  global_reactive_power  \\\n",
       "2075254 2010-11-26 20:58:00               0.9460                 0.0000   \n",
       "2075255 2010-11-26 20:59:00               0.9440                 0.0000   \n",
       "2075256 2010-11-26 21:00:00               0.9380                 0.0000   \n",
       "2075257 2010-11-26 21:01:00               0.9340                 0.0000   \n",
       "2075258 2010-11-26 21:02:00               0.9320                 0.0000   \n",
       "\n",
       "         voltage  global_intensity  sub_metering_1  sub_metering_2  \\\n",
       "2075254 240.4300            4.0000          0.0000          0.0000   \n",
       "2075255 240.0000            4.0000          0.0000          0.0000   \n",
       "2075256 239.8200            3.8000          0.0000          0.0000   \n",
       "2075257 239.7000            3.8000          0.0000          0.0000   \n",
       "2075258 239.5500            3.8000          0.0000          0.0000   \n",
       "\n",
       "         sub_metering_3  \n",
       "2075254          0.0000  \n",
       "2075255          0.0000  \n",
       "2075256          0.0000  \n",
       "2075257          0.0000  \n",
       "2075258          0.0000  "
      ]
     },
     "execution_count": 8,
     "metadata": {},
     "output_type": "execute_result"
    }
   ],
   "source": [
    "df.tail(5)"
   ]
  },
  {
   "cell_type": "markdown",
   "metadata": {},
   "source": [
    "Feature Engineering"
   ]
  },
  {
   "cell_type": "code",
   "execution_count": 9,
   "metadata": {},
   "outputs": [],
   "source": [
    "# Convert the Global_active_power to numeric and remove missing values\n",
    "df['global_active_power'] = pd.to_numeric(df['global_active_power'], errors='coerce')\n",
    "df = df.dropna(subset=['global_active_power'])"
   ]
  },
  {
   "cell_type": "code",
   "execution_count": 10,
   "metadata": {},
   "outputs": [],
   "source": [
    "df['datetime'] = pd.to_datetime(df['datetime']) "
   ]
  },
  {
   "cell_type": "code",
   "execution_count": 11,
   "metadata": {},
   "outputs": [],
   "source": [
    "# create new columns for year, quarter, month, day, hour and minute, we are using dt(change over time) accessor instead of \n",
    "    # lamda function for better datetime extraction\n",
    "df['year'] = df['datetime'].apply(lambda x: x.year)\n",
    "df['quarter'] = df['datetime'].apply(lambda x: x.quarter)\n",
    "df['month'] = df['datetime'].apply(lambda x: x.month)\n",
    "df['day'] = df['datetime'].apply(lambda x: x.day)"
   ]
  },
  {
   "cell_type": "code",
   "execution_count": 12,
   "metadata": {},
   "outputs": [],
   "source": [
    "# keep only the columns such as datetime, global_active_power, year, quarter, month, day, hour and minute\n",
    "df = df.loc[:,['datetime','global_active_power', 'year','quarter','month','day']]"
   ]
  },
  {
   "cell_type": "code",
   "execution_count": 13,
   "metadata": {},
   "outputs": [],
   "source": [
    "# sort data by datetime\n",
    "df.sort_values('datetime', inplace=True, ascending=True)"
   ]
  },
  {
   "cell_type": "code",
   "execution_count": 14,
   "metadata": {},
   "outputs": [],
   "source": [
    "# reset index\n",
    "df = df.reset_index(drop=True)"
   ]
  },
  {
   "cell_type": "code",
   "execution_count": 15,
   "metadata": {},
   "outputs": [],
   "source": [
    "# column'weekday' if the day is a weekday (1) or weekend (0)\n",
    "df['weekday'] = df['datetime'].apply(lambda x: x.weekday() < 5).astype(int)"
   ]
  },
  {
   "cell_type": "code",
   "execution_count": 16,
   "metadata": {},
   "outputs": [
    {
     "name": "stdout",
     "output_type": "stream",
     "text": [
      "Number of rows and columns: (2049280, 7)\n",
      "Minimum datetime: 2006-12-16 17:24:00\n",
      "Maximum datetime: 2010-11-26 21:02:00\n"
     ]
    },
    {
     "data": {
      "application/vnd.microsoft.datawrangler.viewer.v0+json": {
       "columns": [
        {
         "name": "index",
         "rawType": "int64",
         "type": "integer"
        },
        {
         "name": "datetime",
         "rawType": "datetime64[ns]",
         "type": "datetime"
        },
        {
         "name": "global_active_power",
         "rawType": "float64",
         "type": "float"
        },
        {
         "name": "year",
         "rawType": "int64",
         "type": "integer"
        },
        {
         "name": "quarter",
         "rawType": "int64",
         "type": "integer"
        },
        {
         "name": "month",
         "rawType": "int64",
         "type": "integer"
        },
        {
         "name": "day",
         "rawType": "int64",
         "type": "integer"
        },
        {
         "name": "weekday",
         "rawType": "int32",
         "type": "integer"
        }
       ],
       "conversionMethod": "pd.DataFrame",
       "ref": "233a9a10-66b7-4dc5-be41-d4eb058a55a6",
       "rows": [
        [
         "2049275",
         "2010-11-26 20:58:00",
         "0.946",
         "2010",
         "4",
         "11",
         "26",
         "1"
        ],
        [
         "2049276",
         "2010-11-26 20:59:00",
         "0.944",
         "2010",
         "4",
         "11",
         "26",
         "1"
        ],
        [
         "2049277",
         "2010-11-26 21:00:00",
         "0.938",
         "2010",
         "4",
         "11",
         "26",
         "1"
        ],
        [
         "2049278",
         "2010-11-26 21:01:00",
         "0.934",
         "2010",
         "4",
         "11",
         "26",
         "1"
        ],
        [
         "2049279",
         "2010-11-26 21:02:00",
         "0.932",
         "2010",
         "4",
         "11",
         "26",
         "1"
        ]
       ],
       "shape": {
        "columns": 7,
        "rows": 5
       }
      },
      "text/html": [
       "<div>\n",
       "<style scoped>\n",
       "    .dataframe tbody tr th:only-of-type {\n",
       "        vertical-align: middle;\n",
       "    }\n",
       "\n",
       "    .dataframe tbody tr th {\n",
       "        vertical-align: top;\n",
       "    }\n",
       "\n",
       "    .dataframe thead th {\n",
       "        text-align: right;\n",
       "    }\n",
       "</style>\n",
       "<table border=\"1\" class=\"dataframe\">\n",
       "  <thead>\n",
       "    <tr style=\"text-align: right;\">\n",
       "      <th></th>\n",
       "      <th>datetime</th>\n",
       "      <th>global_active_power</th>\n",
       "      <th>year</th>\n",
       "      <th>quarter</th>\n",
       "      <th>month</th>\n",
       "      <th>day</th>\n",
       "      <th>weekday</th>\n",
       "    </tr>\n",
       "  </thead>\n",
       "  <tbody>\n",
       "    <tr>\n",
       "      <th>2049275</th>\n",
       "      <td>2010-11-26 20:58:00</td>\n",
       "      <td>0.9460</td>\n",
       "      <td>2010</td>\n",
       "      <td>4</td>\n",
       "      <td>11</td>\n",
       "      <td>26</td>\n",
       "      <td>1</td>\n",
       "    </tr>\n",
       "    <tr>\n",
       "      <th>2049276</th>\n",
       "      <td>2010-11-26 20:59:00</td>\n",
       "      <td>0.9440</td>\n",
       "      <td>2010</td>\n",
       "      <td>4</td>\n",
       "      <td>11</td>\n",
       "      <td>26</td>\n",
       "      <td>1</td>\n",
       "    </tr>\n",
       "    <tr>\n",
       "      <th>2049277</th>\n",
       "      <td>2010-11-26 21:00:00</td>\n",
       "      <td>0.9380</td>\n",
       "      <td>2010</td>\n",
       "      <td>4</td>\n",
       "      <td>11</td>\n",
       "      <td>26</td>\n",
       "      <td>1</td>\n",
       "    </tr>\n",
       "    <tr>\n",
       "      <th>2049278</th>\n",
       "      <td>2010-11-26 21:01:00</td>\n",
       "      <td>0.9340</td>\n",
       "      <td>2010</td>\n",
       "      <td>4</td>\n",
       "      <td>11</td>\n",
       "      <td>26</td>\n",
       "      <td>1</td>\n",
       "    </tr>\n",
       "    <tr>\n",
       "      <th>2049279</th>\n",
       "      <td>2010-11-26 21:02:00</td>\n",
       "      <td>0.9320</td>\n",
       "      <td>2010</td>\n",
       "      <td>4</td>\n",
       "      <td>11</td>\n",
       "      <td>26</td>\n",
       "      <td>1</td>\n",
       "    </tr>\n",
       "  </tbody>\n",
       "</table>\n",
       "</div>"
      ],
      "text/plain": [
       "                   datetime  global_active_power  year  quarter  month  day  \\\n",
       "2049275 2010-11-26 20:58:00               0.9460  2010        4     11   26   \n",
       "2049276 2010-11-26 20:59:00               0.9440  2010        4     11   26   \n",
       "2049277 2010-11-26 21:00:00               0.9380  2010        4     11   26   \n",
       "2049278 2010-11-26 21:01:00               0.9340  2010        4     11   26   \n",
       "2049279 2010-11-26 21:02:00               0.9320  2010        4     11   26   \n",
       "\n",
       "         weekday  \n",
       "2049275        1  \n",
       "2049276        1  \n",
       "2049277        1  \n",
       "2049278        1  \n",
       "2049279        1  "
      ]
     },
     "execution_count": 16,
     "metadata": {},
     "output_type": "execute_result"
    }
   ],
   "source": [
    "print('Number of rows and columns:', df.shape)\n",
    "print('Minimum datetime:', df.datetime.min())\n",
    "print('Maximum datetime:', df.datetime.max())\n",
    "\n",
    "df.tail(5)"
   ]
  },
  {
   "cell_type": "markdown",
   "metadata": {},
   "source": [
    "Normality testing target on global_active_power.\n",
    "- We need to check if the data is normally distributed \n",
    "- The determination is base on D'Agostino's K^2 Test\n",
    "- We will initialized a p-value for our hypothesis\n",
    "\n",
    "Hypothesis (H0,H1): \n",
    "```python\n",
    "alpha = 0.05\n",
    "\n",
    "if p_value <= alpha, we will reject H0: global_active_power is not normally distributed \n",
    "else:\n",
    "p_value > alpha, we will to reject H0: global_active_power appears normally distributed\n",
    "```"
   ]
  },
  {
   "cell_type": "code",
   "execution_count": 22,
   "metadata": {},
   "outputs": [
    {
     "name": "stdout",
     "output_type": "stream",
     "text": [
      "Statistics=724881.795, p=0.000\n",
      "Reject H0: The distribution of global active power is not normal\n"
     ]
    }
   ],
   "source": [
    "import scipy.stats as stats\n",
    "\n",
    "stat, p_value = stats.normaltest(df['global_active_power'])  # D'Agostino and Pearson's Test\n",
    "print('Statistics=%.3f, p=%.3f' % (stat, p_value))\n",
    "\n",
    "if p_value < 0.05:\n",
    "    print('Reject H0: The distribution of global active power is not normal')\n",
    "else:\n",
    "    print('Fail to reject H0: The distribution of global active power is normal')"
   ]
  },
  {
   "cell_type": "code",
   "execution_count": 25,
   "metadata": {},
   "outputs": [
    {
     "data": {
      "image/png": "[encoded data removed]",
      "text/plain": [
       "<Figure size 800x400 with 1 Axes>"
      ]
     },
     "metadata": {},
     "output_type": "display_data"
    },
    {
     "data": {
      "image/png": "[encoded data removed]",
      "text/plain": [
       "<Figure size 800x400 with 1 Axes>"
      ]
     },
     "metadata": {},
     "output_type": "display_data"
    },
    {
     "data": {
      "text/plain": [
       "Text(0.5, 1.0, 'Histogram of Global Active Power')"
      ]
     },
     "execution_count": 25,
     "metadata": {},
     "output_type": "execute_result"
    }
   ],
   "source": [
    "# plot the distribution of global active power\n",
    "plt.figure(figsize=(8,4))\n",
    "sns.histplot(df['global_active_power'], kde=True, color='blue')\n",
    "plt.title('Distribution of Global Active Power')\n",
    "plt.show()\n",
    "\n",
    "# plot the distribution of global active power on a log scale\n",
    "plt.figure(figsize=(8,4))\n",
    "sns.histplot(df['global_active_power'], kde=True, color='blue')\n",
    "plt.yscale('log')\n",
    "plt.title('Distribution of Global Active Power (Log Scale)')\n",
    "plt.show() \n",
    "\n",
    "# histogram and Q-Q plot\n",
    "plt.figure(figsize=(12,6))\n",
    "plt.subplot(1,2,1)\n",
    "sns.histplot(df['global_active_power'], kde=True, color='blue')\n",
    "plt.title('Histogram of Global Active Power')\n"
   ]
  },
  {
   "cell_type": "code",
   "execution_count": 26,
   "metadata": {},
   "outputs": [
    {
     "name": "stdout",
     "output_type": "stream",
     "text": [
      "Kurtosis: 4.218671866132123\n",
      "Skewness: 1.7862320846320818\n"
     ]
    }
   ],
   "source": [
    "# kurtosis of normal distribution (Fisher-Pearson coefficient of kurtosis)\n",
    "kurtosis = stats.kurtosis(df['global_active_power'])\n",
    "print('Kurtosis:', kurtosis)\n",
    "\n",
    "# skewness of normal distribution\n",
    "skewness = stats.skew(df['global_active_power'])\n",
    "print('Skewness:', skewness)"
   ]
  },
  {
   "cell_type": "markdown",
   "metadata": {},
   "source": [
    "### Summary Insight of Kurtosis and Skewness\n",
    "\n",
    "- **Kurtosis (4.22)**: The kurtosis value is greater than 3, indicating that the distribution of `global_active_power` has heavier tails compared to a normal distribution. This suggests the presence of outliers or extreme values in the data.\n",
    "\n",
    "- **Skewness (1.79)**: The skewness value is positive, indicating that the distribution of `global_active_power` is right-skewed. This means that the data has a longer tail on the right side, with a concentration of values on the lower end.\n",
    "\n",
    "So, we are looking for a symmetry skewness between -0.5 and 0.5 to be consider fairly symmetrical. However, if the skewness fall between -1 & -0.5 or 0.5 & 1, the data is considered moderately skew. In our case, the skewness shown greater than 1, which indicated a highly skewed data. Therefore, these insights suggest that the data is not normally distributed, as confirmed by the p-value from the normality test (`p_value = 0.0`), which leads to rejecting the null hypothesis of normality."
   ]
  },
  {
   "cell_type": "markdown",
   "metadata": {},
   "source": [
    "##### Step 2: Exploratory Data Analysis (EDA)"
   ]
  },
  {
   "cell_type": "markdown",
   "metadata": {},
   "source": [
    "##### Step 3: Data Preparation for Modeling"
   ]
  },
  {
   "cell_type": "code",
   "execution_count": null,
   "metadata": {},
   "outputs": [],
   "source": []
  },
  {
   "cell_type": "markdown",
   "metadata": {},
   "source": [
    "##### Step 4: Building and Training the LSTM Model"
   ]
  },
  {
   "cell_type": "code",
   "execution_count": null,
   "metadata": {},
   "outputs": [],
   "source": []
  },
  {
   "cell_type": "markdown",
   "metadata": {},
   "source": [
    "##### Step 5: Model Evaluation"
   ]
  },
  {
   "cell_type": "code",
   "execution_count": null,
   "metadata": {},
   "outputs": [],
   "source": []
  },
  {
   "cell_type": "markdown",
   "metadata": {},
   "source": [
    "##### Step 6: Visualizations"
   ]
  },
  {
   "cell_type": "code",
   "execution_count": null,
   "metadata": {},
   "outputs": [],
   "source": []
  },
  {
   "cell_type": "code",
   "execution_count": 18,
   "metadata": {},
   "outputs": [
    {
     "ename": "FileNotFoundError",
     "evalue": "[Errno 2] No such file or directory: 'data\\\\raw\\\\household_power_consumption.txt'",
     "output_type": "error",
     "traceback": [
      "\u001b[1;31m---------------------------------------------------------------------------\u001b[0m",
      "\u001b[1;31mFileNotFoundError\u001b[0m                         Traceback (most recent call last)",
      "Cell \u001b[1;32mIn[18], line 3\u001b[0m\n\u001b[0;32m      1\u001b[0m \u001b[38;5;66;03m# Read the dataset \u001b[39;00m\n\u001b[0;32m      2\u001b[0m \u001b[38;5;66;03m# Note: The file uses ';' as delimiter and missing values are represented by '?'\u001b[39;00m\n\u001b[1;32m----> 3\u001b[0m df \u001b[38;5;241m=\u001b[39m pd\u001b[38;5;241m.\u001b[39mread_csv(\u001b[38;5;124mr\u001b[39m\u001b[38;5;124m\"\u001b[39m\u001b[38;5;124mdata\u001b[39m\u001b[38;5;124m\\\u001b[39m\u001b[38;5;124mraw\u001b[39m\u001b[38;5;124m\\\u001b[39m\u001b[38;5;124mhousehold_power_consumption.txt\u001b[39m\u001b[38;5;124m\"\u001b[39m, \n\u001b[0;32m      4\u001b[0m                  sep\u001b[38;5;241m=\u001b[39m\u001b[38;5;124m'\u001b[39m\u001b[38;5;124m;\u001b[39m\u001b[38;5;124m'\u001b[39m, \n\u001b[0;32m      5\u001b[0m                  parse_dates\u001b[38;5;241m=\u001b[39m[[\u001b[38;5;241m0\u001b[39m, \u001b[38;5;241m1\u001b[39m]], \n\u001b[0;32m      6\u001b[0m                  infer_datetime_format\u001b[38;5;241m=\u001b[39m\u001b[38;5;28;01mTrue\u001b[39;00m, \n\u001b[0;32m      7\u001b[0m                  low_memory\u001b[38;5;241m=\u001b[39m\u001b[38;5;28;01mFalse\u001b[39;00m,\n\u001b[0;32m      8\u001b[0m                  na_values\u001b[38;5;241m=\u001b[39m\u001b[38;5;124m'\u001b[39m\u001b[38;5;124m?\u001b[39m\u001b[38;5;124m'\u001b[39m)\n\u001b[0;32m      9\u001b[0m df\u001b[38;5;241m.\u001b[39mrename(columns\u001b[38;5;241m=\u001b[39m{\u001b[38;5;124m'\u001b[39m\u001b[38;5;124mDate_Time\u001b[39m\u001b[38;5;124m'\u001b[39m: \u001b[38;5;124m'\u001b[39m\u001b[38;5;124mDatetime\u001b[39m\u001b[38;5;124m'\u001b[39m}, inplace\u001b[38;5;241m=\u001b[39m\u001b[38;5;28;01mTrue\u001b[39;00m)\n\u001b[0;32m     10\u001b[0m df\u001b[38;5;241m.\u001b[39mset_index(\u001b[38;5;124m'\u001b[39m\u001b[38;5;124mDatetime\u001b[39m\u001b[38;5;124m'\u001b[39m, inplace\u001b[38;5;241m=\u001b[39m\u001b[38;5;28;01mTrue\u001b[39;00m)\n",
      "File \u001b[1;32mc:\\Users\\ADMIN\\anaconda3\\Lib\\site-packages\\pandas\\io\\parsers\\readers.py:1026\u001b[0m, in \u001b[0;36mread_csv\u001b[1;34m(filepath_or_buffer, sep, delimiter, header, names, index_col, usecols, dtype, engine, converters, true_values, false_values, skipinitialspace, skiprows, skipfooter, nrows, na_values, keep_default_na, na_filter, verbose, skip_blank_lines, parse_dates, infer_datetime_format, keep_date_col, date_parser, date_format, dayfirst, cache_dates, iterator, chunksize, compression, thousands, decimal, lineterminator, quotechar, quoting, doublequote, escapechar, comment, encoding, encoding_errors, dialect, on_bad_lines, delim_whitespace, low_memory, memory_map, float_precision, storage_options, dtype_backend)\u001b[0m\n\u001b[0;32m   1013\u001b[0m kwds_defaults \u001b[38;5;241m=\u001b[39m _refine_defaults_read(\n\u001b[0;32m   1014\u001b[0m     dialect,\n\u001b[0;32m   1015\u001b[0m     delimiter,\n\u001b[1;32m   (...)\u001b[0m\n\u001b[0;32m   1022\u001b[0m     dtype_backend\u001b[38;5;241m=\u001b[39mdtype_backend,\n\u001b[0;32m   1023\u001b[0m )\n\u001b[0;32m   1024\u001b[0m kwds\u001b[38;5;241m.\u001b[39mupdate(kwds_defaults)\n\u001b[1;32m-> 1026\u001b[0m \u001b[38;5;28;01mreturn\u001b[39;00m _read(filepath_or_buffer, kwds)\n",
      "File \u001b[1;32mc:\\Users\\ADMIN\\anaconda3\\Lib\\site-packages\\pandas\\io\\parsers\\readers.py:620\u001b[0m, in \u001b[0;36m_read\u001b[1;34m(filepath_or_buffer, kwds)\u001b[0m\n\u001b[0;32m    617\u001b[0m _validate_names(kwds\u001b[38;5;241m.\u001b[39mget(\u001b[38;5;124m\"\u001b[39m\u001b[38;5;124mnames\u001b[39m\u001b[38;5;124m\"\u001b[39m, \u001b[38;5;28;01mNone\u001b[39;00m))\n\u001b[0;32m    619\u001b[0m \u001b[38;5;66;03m# Create the parser.\u001b[39;00m\n\u001b[1;32m--> 620\u001b[0m parser \u001b[38;5;241m=\u001b[39m TextFileReader(filepath_or_buffer, \u001b[38;5;241m*\u001b[39m\u001b[38;5;241m*\u001b[39mkwds)\n\u001b[0;32m    622\u001b[0m \u001b[38;5;28;01mif\u001b[39;00m chunksize \u001b[38;5;129;01mor\u001b[39;00m iterator:\n\u001b[0;32m    623\u001b[0m     \u001b[38;5;28;01mreturn\u001b[39;00m parser\n",
      "File \u001b[1;32mc:\\Users\\ADMIN\\anaconda3\\Lib\\site-packages\\pandas\\io\\parsers\\readers.py:1620\u001b[0m, in \u001b[0;36mTextFileReader.__init__\u001b[1;34m(self, f, engine, **kwds)\u001b[0m\n\u001b[0;32m   1617\u001b[0m     \u001b[38;5;28mself\u001b[39m\u001b[38;5;241m.\u001b[39moptions[\u001b[38;5;124m\"\u001b[39m\u001b[38;5;124mhas_index_names\u001b[39m\u001b[38;5;124m\"\u001b[39m] \u001b[38;5;241m=\u001b[39m kwds[\u001b[38;5;124m\"\u001b[39m\u001b[38;5;124mhas_index_names\u001b[39m\u001b[38;5;124m\"\u001b[39m]\n\u001b[0;32m   1619\u001b[0m \u001b[38;5;28mself\u001b[39m\u001b[38;5;241m.\u001b[39mhandles: IOHandles \u001b[38;5;241m|\u001b[39m \u001b[38;5;28;01mNone\u001b[39;00m \u001b[38;5;241m=\u001b[39m \u001b[38;5;28;01mNone\u001b[39;00m\n\u001b[1;32m-> 1620\u001b[0m \u001b[38;5;28mself\u001b[39m\u001b[38;5;241m.\u001b[39m_engine \u001b[38;5;241m=\u001b[39m \u001b[38;5;28mself\u001b[39m\u001b[38;5;241m.\u001b[39m_make_engine(f, \u001b[38;5;28mself\u001b[39m\u001b[38;5;241m.\u001b[39mengine)\n",
      "File \u001b[1;32mc:\\Users\\ADMIN\\anaconda3\\Lib\\site-packages\\pandas\\io\\parsers\\readers.py:1880\u001b[0m, in \u001b[0;36mTextFileReader._make_engine\u001b[1;34m(self, f, engine)\u001b[0m\n\u001b[0;32m   1878\u001b[0m     \u001b[38;5;28;01mif\u001b[39;00m \u001b[38;5;124m\"\u001b[39m\u001b[38;5;124mb\u001b[39m\u001b[38;5;124m\"\u001b[39m \u001b[38;5;129;01mnot\u001b[39;00m \u001b[38;5;129;01min\u001b[39;00m mode:\n\u001b[0;32m   1879\u001b[0m         mode \u001b[38;5;241m+\u001b[39m\u001b[38;5;241m=\u001b[39m \u001b[38;5;124m\"\u001b[39m\u001b[38;5;124mb\u001b[39m\u001b[38;5;124m\"\u001b[39m\n\u001b[1;32m-> 1880\u001b[0m \u001b[38;5;28mself\u001b[39m\u001b[38;5;241m.\u001b[39mhandles \u001b[38;5;241m=\u001b[39m get_handle(\n\u001b[0;32m   1881\u001b[0m     f,\n\u001b[0;32m   1882\u001b[0m     mode,\n\u001b[0;32m   1883\u001b[0m     encoding\u001b[38;5;241m=\u001b[39m\u001b[38;5;28mself\u001b[39m\u001b[38;5;241m.\u001b[39moptions\u001b[38;5;241m.\u001b[39mget(\u001b[38;5;124m\"\u001b[39m\u001b[38;5;124mencoding\u001b[39m\u001b[38;5;124m\"\u001b[39m, \u001b[38;5;28;01mNone\u001b[39;00m),\n\u001b[0;32m   1884\u001b[0m     compression\u001b[38;5;241m=\u001b[39m\u001b[38;5;28mself\u001b[39m\u001b[38;5;241m.\u001b[39moptions\u001b[38;5;241m.\u001b[39mget(\u001b[38;5;124m\"\u001b[39m\u001b[38;5;124mcompression\u001b[39m\u001b[38;5;124m\"\u001b[39m, \u001b[38;5;28;01mNone\u001b[39;00m),\n\u001b[0;32m   1885\u001b[0m     memory_map\u001b[38;5;241m=\u001b[39m\u001b[38;5;28mself\u001b[39m\u001b[38;5;241m.\u001b[39moptions\u001b[38;5;241m.\u001b[39mget(\u001b[38;5;124m\"\u001b[39m\u001b[38;5;124mmemory_map\u001b[39m\u001b[38;5;124m\"\u001b[39m, \u001b[38;5;28;01mFalse\u001b[39;00m),\n\u001b[0;32m   1886\u001b[0m     is_text\u001b[38;5;241m=\u001b[39mis_text,\n\u001b[0;32m   1887\u001b[0m     errors\u001b[38;5;241m=\u001b[39m\u001b[38;5;28mself\u001b[39m\u001b[38;5;241m.\u001b[39moptions\u001b[38;5;241m.\u001b[39mget(\u001b[38;5;124m\"\u001b[39m\u001b[38;5;124mencoding_errors\u001b[39m\u001b[38;5;124m\"\u001b[39m, \u001b[38;5;124m\"\u001b[39m\u001b[38;5;124mstrict\u001b[39m\u001b[38;5;124m\"\u001b[39m),\n\u001b[0;32m   1888\u001b[0m     storage_options\u001b[38;5;241m=\u001b[39m\u001b[38;5;28mself\u001b[39m\u001b[38;5;241m.\u001b[39moptions\u001b[38;5;241m.\u001b[39mget(\u001b[38;5;124m\"\u001b[39m\u001b[38;5;124mstorage_options\u001b[39m\u001b[38;5;124m\"\u001b[39m, \u001b[38;5;28;01mNone\u001b[39;00m),\n\u001b[0;32m   1889\u001b[0m )\n\u001b[0;32m   1890\u001b[0m \u001b[38;5;28;01massert\u001b[39;00m \u001b[38;5;28mself\u001b[39m\u001b[38;5;241m.\u001b[39mhandles \u001b[38;5;129;01mis\u001b[39;00m \u001b[38;5;129;01mnot\u001b[39;00m \u001b[38;5;28;01mNone\u001b[39;00m\n\u001b[0;32m   1891\u001b[0m f \u001b[38;5;241m=\u001b[39m \u001b[38;5;28mself\u001b[39m\u001b[38;5;241m.\u001b[39mhandles\u001b[38;5;241m.\u001b[39mhandle\n",
      "File \u001b[1;32mc:\\Users\\ADMIN\\anaconda3\\Lib\\site-packages\\pandas\\io\\common.py:873\u001b[0m, in \u001b[0;36mget_handle\u001b[1;34m(path_or_buf, mode, encoding, compression, memory_map, is_text, errors, storage_options)\u001b[0m\n\u001b[0;32m    868\u001b[0m \u001b[38;5;28;01melif\u001b[39;00m \u001b[38;5;28misinstance\u001b[39m(handle, \u001b[38;5;28mstr\u001b[39m):\n\u001b[0;32m    869\u001b[0m     \u001b[38;5;66;03m# Check whether the filename is to be opened in binary mode.\u001b[39;00m\n\u001b[0;32m    870\u001b[0m     \u001b[38;5;66;03m# Binary mode does not support 'encoding' and 'newline'.\u001b[39;00m\n\u001b[0;32m    871\u001b[0m     \u001b[38;5;28;01mif\u001b[39;00m ioargs\u001b[38;5;241m.\u001b[39mencoding \u001b[38;5;129;01mand\u001b[39;00m \u001b[38;5;124m\"\u001b[39m\u001b[38;5;124mb\u001b[39m\u001b[38;5;124m\"\u001b[39m \u001b[38;5;129;01mnot\u001b[39;00m \u001b[38;5;129;01min\u001b[39;00m ioargs\u001b[38;5;241m.\u001b[39mmode:\n\u001b[0;32m    872\u001b[0m         \u001b[38;5;66;03m# Encoding\u001b[39;00m\n\u001b[1;32m--> 873\u001b[0m         handle \u001b[38;5;241m=\u001b[39m \u001b[38;5;28mopen\u001b[39m(\n\u001b[0;32m    874\u001b[0m             handle,\n\u001b[0;32m    875\u001b[0m             ioargs\u001b[38;5;241m.\u001b[39mmode,\n\u001b[0;32m    876\u001b[0m             encoding\u001b[38;5;241m=\u001b[39mioargs\u001b[38;5;241m.\u001b[39mencoding,\n\u001b[0;32m    877\u001b[0m             errors\u001b[38;5;241m=\u001b[39merrors,\n\u001b[0;32m    878\u001b[0m             newline\u001b[38;5;241m=\u001b[39m\u001b[38;5;124m\"\u001b[39m\u001b[38;5;124m\"\u001b[39m,\n\u001b[0;32m    879\u001b[0m         )\n\u001b[0;32m    880\u001b[0m     \u001b[38;5;28;01melse\u001b[39;00m:\n\u001b[0;32m    881\u001b[0m         \u001b[38;5;66;03m# Binary mode\u001b[39;00m\n\u001b[0;32m    882\u001b[0m         handle \u001b[38;5;241m=\u001b[39m \u001b[38;5;28mopen\u001b[39m(handle, ioargs\u001b[38;5;241m.\u001b[39mmode)\n",
      "\u001b[1;31mFileNotFoundError\u001b[0m: [Errno 2] No such file or directory: 'data\\\\raw\\\\household_power_consumption.txt'"
     ]
    }
   ],
   "source": [
    "\n",
    "\n",
    "# Read the dataset \n",
    "# Note: The file uses ';' as delimiter and missing values are represented by '?'\n",
    "df = pd.read_csv(r\"data\\raw\\household_power_consumption.txt\", \n",
    "                 sep=';', \n",
    "                 parse_dates=[[0, 1]], \n",
    "                 infer_datetime_format=True, \n",
    "                 low_memory=False,\n",
    "                 na_values='?')\n",
    "df.rename(columns={'Date_Time': 'Datetime'}, inplace=True)\n",
    "df.set_index('Datetime', inplace=True)\n",
    "\n",
    "# Convert the Global_active_power column to numeric and drop missing values\n",
    "df['Global_active_power'] = pd.to_numeric(df['Global_active_power'], errors='coerce')\n",
    "df.dropna(subset=['Global_active_power'], inplace=True)\n",
    "\n",
    "# To make the series stationary, we apply difference (you may check stationarity with tests if needed)\n",
    "df['GAP_diff'] = df['Global_active_power'].diff().dropna()\n",
    "df.dropna(inplace=True)\n",
    "\n",
    "# Step 2: \n",
    "plt.figure(figsize=(10, 4))\n",
    "plt.plot(df.index, df['Global_active_power'], label='Global Active Power')\n",
    "plt.title(\"Household Global Active Power Consumption\")\n",
    "plt.xlabel(\"Datetime\")\n",
    "plt.ylabel(\"Global Active Power (kilowatts)\")\n",
    "plt.legend()\n",
    "plt.show()\n",
    "\n",
    "# Step 3: \n",
    "# Use the differenced series for modeling\n",
    "series = df['GAP_diff'].values.reshape(-1, 1)\n",
    "\n",
    "# Scale the data between 0 and 1\n",
    "scaler = MinMaxScaler(feature_range=(0, 1))\n",
    "series_scaled = scaler.fit_transform(series)\n",
    "\n",
    "# Function to create sequences for LSTM [look_back time steps]\n",
    "def create_dataset(data, look_back=24):\n",
    "    X, y = [], []\n",
    "    for i in range(len(data)-look_back):\n",
    "        X.append(data[i:(i+look_back), 0])\n",
    "        y.append(data[i+look_back, 0])\n",
    "    return np.array(X), np.array(y)\n",
    "\n",
    "look_back = 24  # e.g., using the past 24 observations to predict the next\n",
    "X, y = create_dataset(series_scaled, look_back)\n",
    "\n",
    "# Reshape input to be [samples, time steps, features] required by LSTM\n",
    "X = np.reshape(X, (X.shape[0], X.shape[1], 1))\n",
    "\n",
    "# Split into training and testing sets (80/20 split)\n",
    "train_size = int(len(X) * 0.8)\n",
    "X_train, X_test = X[:train_size], X[train_size:]\n",
    "y_train, y_test = y[:train_size], y[train_size:]\n",
    "\n",
    "# Step 4: Building and Training the LSTM Model\n",
    "model = Sequential()\n",
    "model.add(LSTM(50, input_shape=(look_back, 1)))\n",
    "model.add(Dense(1))\n",
    "model.compile(loss='mean_squared_error', optimizer='adam')\n",
    "\n",
    "# Train the model\n",
    "history = model.fit(X_train, y_train, epochs=20, batch_size=64, \n",
    "                    validation_data=(X_test, y_test), verbose=1)\n",
    "\n",
    "# Step 5: \n",
    "# Predict on training and testing sets\n",
    "train_predict = model.predict(X_train)\n",
    "test_predict = model.predict(X_test)\n",
    "\n",
    "# Inverse transform predictions and actual values\n",
    "train_predict_inv = scaler.inverse_transform(train_predict)\n",
    "y_train_inv = scaler.inverse_transform(y_train.reshape(-1, 1))\n",
    "test_predict_inv = scaler.inverse_transform(test_predict)\n",
    "y_test_inv = scaler.inverse_transform(y_test.reshape(-1, 1))\n",
    "\n",
    "# Calculate errors\n",
    "train_mae = mean_absolute_error(y_train_inv, train_predict_inv)\n",
    "train_rmse = np.sqrt(mean_squared_error(y_train_inv, train_predict_inv))\n",
    "test_mae = mean_absolute_error(y_test_inv, test_predict_inv)\n",
    "test_rmse = np.sqrt(mean_squared_error(y_test_inv, test_predict_inv))\n",
    "\n",
    "print(\"Training MAE:\", train_mae)\n",
    "print(\"Training RMSE:\", train_rmse)\n",
    "print(\"Testing MAE:\", test_mae)\n",
    "print(\"Testing RMSE:\", test_rmse)\n",
    "\n",
    "# Step 6: Visualizations\n",
    "# Plot training and validation loss over epochs\n",
    "plt.figure(figsize=(8, 4))\n",
    "plt.plot(history.history['loss'], label='Train Loss')\n",
    "plt.plot(history.history['val_loss'], label='Test Loss')\n",
    "plt.title(\"Model Loss Over Epochs\")\n",
    "plt.xlabel(\"Epoch\")\n",
    "plt.ylabel(\"Loss (MSE)\")\n",
    "plt.legend()\n",
    "plt.show()\n",
    "\n",
    "# Plot actual vs predicted for testing data\n",
    "plt.figure(figsize=(10, 4))\n",
    "plt.plot(y_test_inv, label='Actual GAP_diff')\n",
    "plt.plot(test_predict_inv, label='Predicted GAP_diff')\n",
    "plt.title(\"Actual vs Predicted Global Active Power Differential\")\n",
    "plt.xlabel(\"Time Step\")\n",
    "plt.ylabel(\"Global Active Power Difference\")\n",
    "plt.legend()\n",
    "plt.show()"
   ]
  }
 ],
 "metadata": {
  "kernelspec": {
   "display_name": "base",
   "language": "python",
   "name": "python3"
  },
  "language_info": {
   "codemirror_mode": {
    "name": "ipython",
    "version": 3
   },
   "file_extension": ".py",
   "mimetype": "text/x-python",
   "name": "python",
   "nbconvert_exporter": "python",
   "pygments_lexer": "ipython3",
   "version": "3.12.7"
  }
 },
 "nbformat": 4,
 "nbformat_minor": 2
}
